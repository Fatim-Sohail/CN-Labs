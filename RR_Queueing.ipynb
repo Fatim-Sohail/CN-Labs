{
  "nbformat": 4,
  "nbformat_minor": 0,
  "metadata": {
    "colab": {
      "provenance": [],
      "authorship_tag": "ABX9TyNFKwuxTtAN5ngQhErFDrXQ",
      "include_colab_link": true
    },
    "kernelspec": {
      "name": "python3",
      "display_name": "Python 3"
    },
    "language_info": {
      "name": "python"
    }
  },
  "cells": [
    {
      "cell_type": "markdown",
      "metadata": {
        "id": "view-in-github",
        "colab_type": "text"
      },
      "source": [
        "<a href=\"https://colab.research.google.com/github/Fatim-Sohail/CN-Labs/blob/master/RR_Queueing.ipynb\" target=\"_parent\"><img src=\"https://colab.research.google.com/assets/colab-badge.svg\" alt=\"Open In Colab\"/></a>"
      ]
    },
    {
      "cell_type": "code",
      "execution_count": 3,
      "metadata": {
        "colab": {
          "base_uri": "https://localhost:8080/",
          "height": 819
        },
        "id": "fhOTR76CzILi",
        "outputId": "05f9765b-0da5-455a-c684-f838c06a734a"
      },
      "outputs": [
        {
          "output_type": "stream",
          "name": "stdout",
          "text": [
            "Mean number of customers in queue:\n",
            "Queue 0: 0.22\n",
            "Queue 1: 2.10\n",
            "Queue 2: 0.05\n",
            "Mean blocking probability:\n",
            "Queue 0: 0.00\n",
            "Queue 1: 0.00\n",
            "Queue 2: 0.00\n",
            "Mean number of customers in queue:\n",
            "Queue 0: 4.43\n",
            "Queue 1: 1.11\n",
            "Queue 2: 0.39\n",
            "Mean blocking probability:\n",
            "Queue 0: 0.00\n",
            "Queue 1: 0.00\n",
            "Queue 2: 0.00\n"
          ]
        },
        {
          "output_type": "display_data",
          "data": {
            "text/plain": [
              "<Figure size 432x288 with 1 Axes>"
            ],
            "image/png": "[encoded data removed]"
          },
          "metadata": {
            "needs_background": "light"
          }
        },
        {
          "output_type": "display_data",
          "data": {
            "text/plain": [
              "<Figure size 432x288 with 1 Axes>"
            ],
            "image/png": "[encoded data removed]"
          },
          "metadata": {
            "needs_background": "light"
          }
        }
      ],
      "source": [
        "import random\n",
        "\n",
        "# Simulation parameters\n",
        "num_of_queues = 3\n",
        "arrival_rate = [0.2, 0.3, 0.4]\n",
        "queue_size = [10, 15, 20]\n",
        "service_time = 2\n",
        "\n",
        "# Performance measures\n",
        "eq_sum = [0.0] * num_of_queues\n",
        "blocking_prob = [0.0] * num_of_queues\n",
        "num_of_cus_in_q = [0] * num_of_queues\n",
        "num_of_cus_arrived = [0] * num_of_queues\n",
        "num_of_cus_blocked = [0] * num_of_queues\n",
        "ttime = 0.0\n",
        "\n",
        "# Event calendar\n",
        "event_calendar = []\n",
        "\n",
        "# Initialize event calendar\n",
        "for q in range(num_of_queues):\n",
        "    time = random.expovariate(arrival_rate[q])\n",
        "    event_calendar.append(('arrival', time, q))\n",
        "\n",
        "# Run simulation\n",
        "while event_calendar:\n",
        "    event = event_calendar.pop(0)\n",
        "    ttime = event[1]\n",
        "    if event[0] == 'arrival':\n",
        "        q = event[2]\n",
        "        num_of_cus_arrived[q] += 1\n",
        "        if num_of_cus_in_q[q] < queue_size[q]:\n",
        "            num_of_cus_in_q[q] += 1\n",
        "            eq_sum[q] += num_of_cus_in_q[q] * (ttime - sum(blocking_prob))\n",
        "            time = random.expovariate(1/service_time)\n",
        "            event_calendar.append(('departure', ttime + time, q))\n",
        "        else:\n",
        "            num_of_cus_blocked[q] += 1\n",
        "            blocking_prob[q] = num_of_cus_blocked[q] / num_of_cus_arrived[q]\n",
        "    elif event[0] == 'departure':\n",
        "        q = event[2]\n",
        "        num_of_cus_in_q[q] -= 1\n",
        "        eq_sum[q] += num_of_cus_in_q[q] * (ttime - sum(blocking_prob))\n",
        "        if num_of_cus_in_q[q] > 0:\n",
        "            time = random.expovariate(1/service_time)\n",
        "            event_calendar.append(('departure', ttime + time, q))\n",
        "\n",
        "# Calculate performance measures\n",
        "mean_num_of_cus_in_q = [eq_sum[q] / ttime for q in range(num_of_queues)]\n",
        "\n",
        "print(\"Mean number of customers in queue:\")\n",
        "for q in range(num_of_queues):\n",
        "    print(\"Queue {}: {:.2f}\".format(q, mean_num_of_cus_in_q[q]))\n",
        "\n",
        "print(\"Mean blocking probability:\")\n",
        "for q in range(num_of_queues):\n",
        "    print(\"Queue {}: {:.2f}\".format(q, blocking_prob[q]))\n",
        "\n",
        "\n",
        "#  Plot\n",
        "\n",
        "import random\n",
        "import matplotlib.pyplot as plt\n",
        "\n",
        "# Simulation parameters\n",
        "num_of_queues = 3\n",
        "arrival_rate = [0.2, 0.3, 0.4]\n",
        "queue_size = [10, 15, 20]\n",
        "service_time = 2\n",
        "\n",
        "# Performance measures\n",
        "eq_sum = [0.0] * num_of_queues\n",
        "blocking_prob = [0.0] * num_of_queues\n",
        "num_of_cus_in_q = [0] * num_of_queues\n",
        "num_of_cus_arrived = [0] * num_of_queues\n",
        "num_of_cus_blocked = [0] * num_of_queues\n",
        "ttime = 0.0\n",
        "\n",
        "# Event calendar\n",
        "event_calendar = []\n",
        "\n",
        "# Initialize event calendar\n",
        "for q in range(num_of_queues):\n",
        "    time = random.expovariate(arrival_rate[q])\n",
        "    event_calendar.append(('arrival', time, q))\n",
        "\n",
        "# Run simulation\n",
        "while event_calendar:\n",
        "    event = event_calendar.pop(0)\n",
        "    ttime = event[1]\n",
        "    if event[0] == 'arrival':\n",
        "        q = event[2]\n",
        "        num_of_cus_arrived[q] += 1\n",
        "        if num_of_cus_in_q[q] < queue_size[q]:\n",
        "            num_of_cus_in_q[q] += 1\n",
        "            eq_sum[q] += num_of_cus_in_q[q] * (ttime - sum(blocking_prob))\n",
        "            time = random.expovariate(1/service_time)\n",
        "            event_calendar.append(('departure', ttime + time, q))\n",
        "        else:\n",
        "            num_of_cus_blocked[q] += 1\n",
        "            blocking_prob[q] = num_of_cus_blocked[q] / num_of_cus_arrived[q]\n",
        "    elif event[0] == 'departure':\n",
        "        q = event[2]\n",
        "        num_of_cus_in_q[q] -= 1\n",
        "        eq_sum[q] += num_of_cus_in_q[q] * (ttime - sum(blocking_prob))\n",
        "        if num_of_cus_in_q[q] > 0:\n",
        "            time = random.expovariate(1/service_time)\n",
        "            event_calendar.append(('departure', ttime + time, q))\n",
        "\n",
        "# Calculate performance measures\n",
        "mean_num_of_cus_in_q = [eq_sum[q] / ttime for q in range(num_of_queues)]\n",
        "\n",
        "print(\"Mean number of customers in queue:\")\n",
        "for q in range(num_of_queues):\n",
        "    print(\"Queue {}: {:.2f}\".format(q, mean_num_of_cus_in_q[q]))\n",
        "\n",
        "print(\"Mean blocking probability:\")\n",
        "for q in range(num_of_queues):\n",
        "    print(\"Queue {}: {:.2f}\".format(q, blocking_prob[q]))\n",
        "\n",
        "# Plot performance measures\n",
        "plt.plot(arrival_rate, mean_num_of_cus_in_q)\n",
        "plt.xlabel(\"Arrival Rate\")\n",
        "plt.ylabel(\"Mean Number of Customers in Queue\")\n",
        "plt.show()\n",
        "\n",
        "plt.plot(arrival_rate, blocking_prob)\n",
        "plt.xlabel(\"Arrival Rate\")\n",
        "plt.ylabel(\"Mean Blocking Probability\")\n",
        "plt.show()\n",
        "\n",
        "\n",
        "# Fatimah Sohail Shaukat\n",
        "# 2020-CE-37"
      ]
    }
  ]
}